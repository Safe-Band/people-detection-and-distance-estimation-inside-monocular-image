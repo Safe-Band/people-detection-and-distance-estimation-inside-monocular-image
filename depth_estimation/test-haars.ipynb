{
 "cells": [
  {
   "cell_type": "code",
   "execution_count": null,
   "metadata": {},
   "outputs": [],
   "source": [
    "import cv2\n",
    "import math\n",
    "import matplotlib.pyplot as plt\n",
    "from jhu_handler import JHU_handler\n",
    "\n",
    "# Load an img:\n",
    "db = JHU_handler()\n",
    "img_path, heads, info = db.get_image(\"3223\")\n",
    "img = cv2.imread(img_path)\n",
    "\n",
    "face_cascade = cv2.CascadeClassifier('static/haarcascade_frontalface_default.xml')\n",
    "\n",
    "width_c = img.shape[0]\n",
    "height_c = img.shape[1]\n",
    "gray = cv2.cvtColor(img, cv2.COLOR_BGR2GRAY)\n",
    "faces = face_cascade.detectMultiScale(gray, 1.1, 4)\n",
    "font = cv2.FONT_HERSHEY_SIMPLEX\n",
    "n=0\n",
    "l = len(faces)\n",
    "dist_x = []\n",
    "dist_y = []\n",
    "width = []\n",
    "height = []\n",
    "\n",
    "#Here z-distance is 360 / w\n",
    "for (x, y, w, h) in faces:\n",
    "    cv2.rectangle(img, (x, y), (x + w, y + h), (0, 255, 0), 2)\n",
    "    distance = str(360 / w)\n",
    "    d = distance[:3] + \"ft\"\n",
    "    dist_y.append(float(distance))\n",
    "    dist_x.append(x / 100)\n",
    "    width.append(w)\n",
    "    height.append(h)\n",
    "    img = cv2.putText(img, str(d), (x - 5, y), font, 1, (255, 255, 255), 2, cv2.LINE_AA)\n",
    "    n += 1\n",
    "\n",
    "cv2.imshow('img', img)\n",
    "cv2.waitKey(0)\n",
    "cv2.destroyAllWindows()"
   ]
  }
 ],
 "metadata": {
  "kernelspec": {
   "display_name": "venv",
   "language": "python",
   "name": "python3"
  },
  "language_info": {
   "codemirror_mode": {
    "name": "ipython",
    "version": 3
   },
   "file_extension": ".py",
   "mimetype": "text/x-python",
   "name": "python",
   "nbconvert_exporter": "python",
   "pygments_lexer": "ipython3",
   "version": "3.10.12"
  }
 },
 "nbformat": 4,
 "nbformat_minor": 2
}
